{
 "cells": [
  {
   "cell_type": "code",
   "execution_count": 3,
   "id": "1e38ac6e",
   "metadata": {},
   "outputs": [
    {
     "name": "stdout",
     "output_type": "stream",
     "text": [
      "None\n"
     ]
    }
   ],
   "source": [
    "import numpy as np \n",
    "import pandas as pd \n",
    "from sklearn.linear_model import LogisticRegression\n",
    "from sklearn.metrics import confusion_matrix\n",
    "\n",
    "\n",
    "\n",
    "class FirstClassModel:\n",
    "    # Every method (except for performance metrics) should be defined \n",
    "    # a one line call to the appropriate method from the library you use\n",
    "    def __init__(self):\n",
    "        self.model = LogisticRegression(random_state = 0)\n",
    "\n",
    "    def fit(self,x,y):\n",
    "        ## Your fit model may simply call that of sklearn or any other\n",
    "        # library you wish to use (i.e. should be one line)\n",
    "        pass \n",
    "\n",
    "    def predict_class(self,x):\n",
    "        ### This method must return an array with size y\n",
    "        ## whose entries are either 0 or 1#\n",
    "        y_pred = None\n",
    "        return y_pred\n",
    "\n",
    "         \n",
    "\n",
    "    def predict_probabilities(self,x):\n",
    "        ### This method must return an array with size y\n",
    "        ## whose entries denote the \"likelihood\" that input\n",
    "        # x belongs to (each) class, with shape (#data points, #classes)\n",
    "        y_prob = None  \n",
    "        return y_prob\n",
    "\n",
    "    def performance_metrics(self,x,y):  \n",
    "        ### report accuracy, true positive rate, false positive rate\n",
    "        ## as well as score mean and standard deviation (corresponding to class ONE)\n",
    "        # ... \n",
    "        return None #accuracy, tpr, fpr, yprob_mean, yprob_stdev\n",
    "\n",
    "\n",
    "if __name__ == \"__main__\":\n",
    "    # Step -1: instantiate a model. I've already biased you with \n",
    "    # one in the constructor\n",
    "    fcm = FirstClassModel()\n",
    "\n",
    "    ### Step 0: load data \n",
    "    data =  pd.read_csv('./data/pa0_train.csv',index_col = False)  #load_data_function  \n",
    "            #pd.read_csv('filepath')  ## You will want to include extension '.csv'\n",
    "\n",
    "    ### Step 1: process data, extract features / labels. You do not need to do \n",
    "    ## a train/test split (but you certainly can if you'd like!)\n",
    "    x,y =  np.array(data.iloc[:,:-1]), np.array(data.iloc[:,-1])\n",
    "            # separate input data from labels and convert to numpy arrays\n",
    "\n",
    "    ### Step 2:  train model \n",
    "    ## will need to define .fit() method of FirstClassModel\n",
    "    # Calling this method will fit parameters of your model\n",
    "    fcm.fit(x,y)\n",
    "\n",
    "    \n",
    "    ### Step 3: define prediction methods\n",
    "    ## one should give the probability associated to class 1, and\n",
    "    # the other the discrete class predictions\n",
    "    y_probs = fcm.predict_probabilities(x)\n",
    "    y_pred = fcm.predict_class(x)\n",
    "\n",
    "    # printing for debugging purposes, not needed \n",
    "    print(y_probs)\n",
    "\n",
    "    ### Step 4: define metrics method\n",
    "    ## evaluate performance\n",
    "    metrics = fcm.performance_metrics(x,y)\n"
   ]
  },
  {
   "cell_type": "code",
   "execution_count": null,
   "id": "5dc0c78e",
   "metadata": {},
   "outputs": [],
   "source": []
  }
 ],
 "metadata": {
  "kernelspec": {
   "display_name": "Python 3 (ipykernel)",
   "language": "python",
   "name": "python3"
  },
  "language_info": {
   "codemirror_mode": {
    "name": "ipython",
    "version": 3
   },
   "file_extension": ".py",
   "mimetype": "text/x-python",
   "name": "python",
   "nbconvert_exporter": "python",
   "pygments_lexer": "ipython3",
   "version": "3.11.4"
  }
 },
 "nbformat": 4,
 "nbformat_minor": 5
}
